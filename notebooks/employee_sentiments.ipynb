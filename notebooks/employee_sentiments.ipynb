{
 "cells": [
  {
   "cell_type": "markdown",
   "id": "c1c3fbc0",
   "metadata": {},
   "source": [
    "Task 1: Label each employee message as Positive, Negative, or Neutral using VADER\n",
    "1. Import libraries and Load Dataset"
   ]
  },
  {
   "cell_type": "code",
   "execution_count": null,
   "id": "1a25fd82",
   "metadata": {},
   "outputs": [],
   "source": [
    "import pandas as pd \n",
    "import matplotlib.pyplot as plt\n",
    "import seaborn as sns\n",
    "import warnings\n",
    "from datetime import datetime\n",
    "from vaderSentiment.vaderSentiment import SentimentIntensityAnalyzer\n",
    "plt.style.use('seaborn-v0_8')\n",
    "sns.set_palette(\"husl\")\n",
    "\n",
    "#LOAD test .csv file \n",
    "path=\"C:/Users/ladom/Desktop/TS/ML/AI-project-submission/\"\n",
    "df=pd.read_csv(f\"{path}data/test(in).csv\")\n",
    "\n",
    "df.head()"
   ]
  },
  {
   "cell_type": "markdown",
   "id": "b884413c",
   "metadata": {},
   "source": [
    "2.Initialize VADER and Create  Sentiment Labeling Function"
   ]
  },
  {
   "cell_type": "code",
   "execution_count": null,
   "id": "106ae493",
   "metadata": {},
   "outputs": [],
   "source": [
    "# create a Vader sentiment analyzer \n",
    "analyzer=SentimentIntensityAnalyzer()\n",
    "\n",
    "# Define a function to get sentiment score\n",
    "def get_sentiment_label(text):\n",
    "    score=analyzer.polarity_scores(text)['compound']\n",
    "    if score >= 0.05:\n",
    "        return 'Positive'\n",
    "    elif score <= -0.05:\n",
    "        return 'Negative'\n",
    "    else:\n",
    "        return 'Neutral'"
   ]
  },
  {
   "cell_type": "markdown",
   "id": "674adbb2",
   "metadata": {},
   "source": [
    "3. Apply labeling and Save labeled data "
   ]
  },
  {
   "cell_type": "code",
   "execution_count": null,
   "id": "1b55e0d9",
   "metadata": {},
   "outputs": [],
   "source": [
    "df['sentiment']=df['body'].apply(get_sentiment_label)\n",
    "# Save labeled dataset for further tasks \n",
    "df.to_csv(f\"{path}data/labeled_test.csv\")"
   ]
  },
  {
   "cell_type": "markdown",
   "id": "b0980345",
   "metadata": {},
   "source": [
    "Task 2: Eploratory Data Anlysis (EDA) \n",
    "1. Analyze labeled dataset to understand the structure "
   ]
  },
  {
   "cell_type": "code",
   "execution_count": null,
   "id": "e7007510",
   "metadata": {},
   "outputs": [],
   "source": [
    "# Load labeled dataset \n",
    "df=pd.read_csv(f\"{path}data/labeled_test.csv\")\n",
    "\n",
    "print(df.info())\n",
    "\n",
    "df.head()\n",
    "\n"
   ]
  },
  {
   "cell_type": "code",
   "execution_count": null,
   "id": "7cd8d1a6",
   "metadata": {},
   "outputs": [],
   "source": [
    "# Check  for missing values \n",
    "df.isnull().sum()\n",
    "\n",
    "# basic counts '\n",
    "print(f\"Total number of messages: {df.shape[0]}\")\n",
    "print(f\"Total number of unique employees: {df['from'].nunique()}\")\n",
    "\n"
   ]
  },
  {
   "cell_type": "markdown",
   "id": "17fddabd",
   "metadata": {},
   "source": [
    "2. Sentiment Distribution "
   ]
  },
  {
   "cell_type": "code",
   "execution_count": null,
   "id": "9eb97a0b",
   "metadata": {},
   "outputs": [],
   "source": [
    "\n",
    "setiment_counts=df['sentiment'].value_counts()\n",
    "print(setiment_counts)\n",
    "\n",
    "plt.figure(figsize=(6,4))\n",
    "sns.countplot(x='sentiment', data=df, palette={\"Positive\":\"green\", \"Negative\":\"red\", \"Neutral\":\"blue\"})\n",
    "plt.title(\"Sentiment Label Distribution\")\n",
    "plt.xlabel(\"Sentiment\")\n",
    "plt.ylabel(\"Number of Messages\")\n",
    "plt.show()\n"
   ]
  },
  {
   "cell_type": "markdown",
   "id": "8b08c8f9",
   "metadata": {},
   "source": [
    "3. Convert Data column to datetime , Create month period column"
   ]
  },
  {
   "cell_type": "code",
   "execution_count": null,
   "id": "fe767b8f",
   "metadata": {},
   "outputs": [],
   "source": [
    "df['date']=pd.to_datetime(df['date'])\n",
    "\n",
    "# check the date range \n",
    "print(f\"Date range: {df['date'].min()} to {df['date'].max()}\")\n",
    "df['month']=df['date'].dt.to_period('M') \n",
    "\n",
    "# Group by month and sentiment \n",
    "monthly_sentiment=df.groupby(['month','sentiment']).size().unstack().fillna(0)\n",
    "monthly_sentiment"
   ]
  },
  {
   "cell_type": "markdown",
   "id": "6f08a67b",
   "metadata": {},
   "source": [
    "4. Plot monthly sentiment trends (stacked bar chart )"
   ]
  },
  {
   "cell_type": "code",
   "execution_count": null,
   "id": "4c400a33",
   "metadata": {},
   "outputs": [],
   "source": [
    "monthly_sentiment.plot(kind='bar', stacked=True, figsize=(12,6), color={\n",
    "    \"Positive\":\"green\",\n",
    "    \"Negative\":\"red\",\n",
    "    \"Neutral\":\"blue\"\n",
    "})\n",
    "plt.title(\"Monthly Sentiment Trends\")\n",
    "plt.xlabel(\"Month\")\n",
    "plt.ylabel(\"Number of Messages\")\n",
    "plt.xticks(rotation=45)\n",
    "plt.legend(title=\"Sentiment\")\n",
    "plt.show()\n"
   ]
  },
  {
   "cell_type": "markdown",
   "id": "1d0624f6",
   "metadata": {},
   "source": [
    "5. Plot Negative message trend Seperately "
   ]
  },
  {
   "cell_type": "code",
   "execution_count": null,
   "id": "f41ab69d",
   "metadata": {},
   "outputs": [],
   "source": [
    "monthly_sentiment['Negative'].plot(kind='line', marker='o', color='red', figsize=(10,5))\n",
    "plt.title('Trend of Negative Messages Over Time')\n",
    "plt.xlabel('Month')\n",
    "plt.ylabel('Number of Negative Messages')\n",
    "plt.grid(True)\n",
    "plt.show()\n"
   ]
  },
  {
   "cell_type": "markdown",
   "id": "bddf00fc",
   "metadata": {},
   "source": [
    "6. Save EDA summaries "
   ]
  },
  {
   "cell_type": "code",
   "execution_count": null,
   "id": "543e992c",
   "metadata": {},
   "outputs": [],
   "source": [
    "monthly_sentiment.to_csv(f\"{path}reports/employee_sentiments/monthly_sentiment_summary.csv\")\n",
    "setiment_counts.to_csv(f\"{path}reports/employee_sentiments/sentiment_distribution.csv\")\n"
   ]
  },
  {
   "cell_type": "markdown",
   "id": "5a9893c5",
   "metadata": {},
   "source": [
    "Task 3 .  Employee Score Calculation"
   ]
  },
  {
   "cell_type": "markdown",
   "id": "330b8789",
   "metadata": {},
   "source": []
  },
  {
   "cell_type": "code",
   "execution_count": null,
   "id": "20f76766",
   "metadata": {},
   "outputs": [],
   "source": [
    "# Define scoring function\n",
    "def sentiment_score(label):\n",
    "    if label == 'Positive':\n",
    "        return 1\n",
    "    elif label == 'Negative':\n",
    "        return -1\n",
    "    else:  # Neutral\n",
    "        return 0"
   ]
  },
  {
   "cell_type": "code",
   "execution_count": null,
   "id": "2626ea84",
   "metadata": {},
   "outputs": [],
   "source": [
    "# APPLY Score to each message \n",
    "df['score'] = df['sentiment'].apply(sentiment_score) \n",
    "# Preview data with new score column \n",
    "df[['from', 'date', 'sentiment', 'score']].head()"
   ]
  },
  {
   "cell_type": "markdown",
   "id": "a6ebda0e",
   "metadata": {},
   "source": [
    "# Group by employee and month, aggregate scores"
   ]
  },
  {
   "cell_type": "code",
   "execution_count": null,
   "id": "940833f6",
   "metadata": {},
   "outputs": [],
   "source": [
    "employee_monthly_score = df.groupby(['from', 'month'])['score'].sum().reset_index()\n",
    "# Preview the result \n",
    "employee_monthly_score.head()"
   ]
  },
  {
   "cell_type": "markdown",
   "id": "28a1f020",
   "metadata": {},
   "source": [
    "Pivot for easier visualization (employees as rows, months as column)"
   ]
  },
  {
   "cell_type": "code",
   "execution_count": null,
   "id": "ee314566",
   "metadata": {},
   "outputs": [],
   "source": [
    "employee_monthly_pivot = employee_monthly_score.pivot(index='from', columns='month', values='score').fillna(0)\n",
    "#Preview pivot table \n",
    "employee_monthly_pivot.head()"
   ]
  },
  {
   "cell_type": "markdown",
   "id": "66efc5d7",
   "metadata": {},
   "source": [
    "# Visualize sample employee score trends (for top 5 employees alphabetically)"
   ]
  },
  {
   "cell_type": "code",
   "execution_count": null,
   "id": "dd3150fd",
   "metadata": {},
   "outputs": [],
   "source": [
    "sample_employees = employee_monthly_pivot.index[:5]\n",
    "plt.figure(figsize=(12,6))\n",
    "for emp in sample_employees:\n",
    "    sns.lineplot(\n",
    "        x=employee_monthly_pivot.columns.astype(str),\n",
    "        y=employee_monthly_pivot.loc[emp],\n",
    "        label=f'Employee {emp}',\n",
    "        marker='o'\n",
    "    )\n",
    "plt.title('Monthly Sentiment Score Trends (Sample Employees)')\n",
    "plt.xlabel('Month')\n",
    "plt.ylabel('Sentiment Score')\n",
    "plt.legend(bbox_to_anchor=(1.05, 1), loc='upper left')\n",
    "plt.xticks(employee_monthly_pivot.columns[::3].astype(str), rotation=45)  # Reduce tick density\n",
    "plt.grid(True)\n",
    "plt.tight_layout()\n",
    "plt.show()"
   ]
  },
  {
   "cell_type": "markdown",
   "id": "c6f123f3",
   "metadata": {},
   "source": [
    "Save results "
   ]
  },
  {
   "cell_type": "code",
   "execution_count": null,
   "id": "710f627b",
   "metadata": {},
   "outputs": [],
   "source": [
    "employee_monthly_score.to_csv(f'{path}reports/employee_sentiments/employee_monthly_sentiment_score.csv', index=False)\n",
    "employee_monthly_pivot.to_csv(f'{path}reports/employee_sentiments/employee_monthly_sentiment_score_pivot.csv')"
   ]
  },
  {
   "cell_type": "markdown",
   "id": "3011efd1",
   "metadata": {},
   "source": [
    "TASK 4. Employee Ranking\n",
    "For each month, rank employees by their sentiment scores."
   ]
  },
  {
   "cell_type": "code",
   "execution_count": 59,
   "id": "ca3444de",
   "metadata": {},
   "outputs": [],
   "source": [
    "# Convert 'month' back to period for proper sorting\n",
    "employee_monthly_score['month']=pd.PeriodIndex(employee_monthly_score['month'], freq='M')"
   ]
  },
  {
   "cell_type": "markdown",
   "id": "7eb1ce30",
   "metadata": {},
   "source": [
    "Function to get top 3 positive and negative employees per month"
   ]
  },
  {
   "cell_type": "code",
   "execution_count": null,
   "id": "c50595f4",
   "metadata": {},
   "outputs": [],
   "source": [
    "def get_top_employees(df, month):\n",
    "    month_data = df[df['month'] == month]\n",
    "    \n",
    "    # Sort for positive\n",
    "    top_positive = month_data.sort_values(by=['score', 'from'], ascending=[False, True]).head(3)\n",
    "    \n",
    "    # Sort for negative\n",
    "    top_negative = month_data.sort_values(by=['score', 'from'], ascending=[True, True]).head(3)\n",
    "    \n",
    "    return top_positive, top_negative\n",
    "\n",
    "# Process each month \n",
    "ranking_results = []\n",
    "\n",
    "months=sorted(employee_monthly_score['month'].unique())\n",
    "for m in months:\n",
    "    top_pos, top_neg = get_top_employees(employee_monthly_score, m)\n",
    "\n",
    "    # Top Positive\n",
    "    df_pos = top_pos.assign(\n",
    "        month=str(m),\n",
    "        ranking='Top Positive'\n",
    "    )[['month', 'from', 'score', 'ranking']]\n",
    "    \n",
    "    # Top Negative\n",
    "    df_neg = top_neg.assign(\n",
    "        month=str(m),\n",
    "        ranking='Top Negative'\n",
    "    )[['month', 'from', 'score', 'ranking']]\n",
    "    \n",
    "    # Append both to list\n",
    "    ranking_results.extend([df_pos, df_neg])\n",
    "\n",
    "# Combine all into one DataFrame\n",
    "final_ranking_df = pd.concat(ranking_results, ignore_index=True)\n",
    "\n",
    "# Preview \n",
    "final_ranking_df.head()\n"
   ]
  },
  {
   "cell_type": "markdown",
   "id": "8518f5e7",
   "metadata": {},
   "source": [
    "# Save rankings to file"
   ]
  },
  {
   "cell_type": "code",
   "execution_count": 63,
   "id": "ab85a63a",
   "metadata": {},
   "outputs": [],
   "source": [
    "final_ranking_df.to_csv(f'{path}reports/rankings//monthly_employee_rankings.csv', index=False)"
   ]
  },
  {
   "cell_type": "markdown",
   "id": "ff4f323c",
   "metadata": {},
   "source": [
    "Visualize top positive and negative employees for the last month"
   ]
  },
  {
   "cell_type": "code",
   "execution_count": null,
   "id": "9e1e0001",
   "metadata": {},
   "outputs": [],
   "source": [
    "last_month = max(months)\n",
    "\n",
    "last_month_rankings = final_ranking_df[final_ranking_df['month'] == str(last_month)]\n",
    "\n",
    "last_month_rankings['short_name'] = last_month_rankings['from'].str.split('@').str[0]\n",
    "\n",
    "plt.figure(figsize=(10,5))\n",
    "sns.barplot(data=last_month_rankings, x='short_name', y='score', hue='ranking', dodge=False,\n",
    "            palette={'Top Positive':'green', 'Top Negative':'red'})\n",
    "\n",
    "plt.title(f'Employee Rankings for {last_month}')\n",
    "plt.xlabel('Employee')\n",
    "plt.ylabel('Sentiment Score')\n",
    "plt.xticks(rotation=45, ha='right')\n",
    "plt.legend()\n",
    "plt.tight_layout()\n",
    "plt.show()\n"
   ]
  },
  {
   "cell_type": "markdown",
   "id": "3ce2aa16",
   "metadata": {},
   "source": [
    "Task 5: Flight Risk Identification\n",
    " An employee is flagged as **flight risk** if they send **4 or more negative messages in any rolling 30-day window**."
   ]
  },
  {
   "cell_type": "code",
   "execution_count": 68,
   "id": "2a5745c2",
   "metadata": {},
   "outputs": [],
   "source": [
    "#Filter only negative message \n",
    "negative_msgs=df[df['sentiment']=='Negative'].copy()\n",
    "\n",
    "# Sort by employee and date for rolling count\n",
    "negative_msgs = negative_msgs.sort_values(by=['from', 'date'])"
   ]
  },
  {
   "cell_type": "markdown",
   "id": "41b0f9d0",
   "metadata": {},
   "source": [
    " Create rolling 30-day negative message counts for each employee"
   ]
  },
  {
   "cell_type": "code",
   "execution_count": 70,
   "id": "eb7321ac",
   "metadata": {},
   "outputs": [
    {
     "name": "stdout",
     "output_type": "stream",
     "text": [
      "Number of employees flagged as flight risk: 6\n",
      "Flight Risk Employees List:\n",
      "['bobette.riner@ipgdirect.com', 'don.baughman@enron.com', 'john.arnold@enron.com', 'johnny.palmer@enron.com', 'kayne.coulter@enron.com', 'sally.beck@enron.com']\n"
     ]
    }
   ],
   "source": [
    "flight_risk_flags=[]\n",
    "\n",
    "for emp_id, group in negative_msgs.groupby('from'):\n",
    "    group = group.copy()\n",
    "    group['neg_count_30d'] = group.set_index('date')['sentiment'].rolling('30D').count().values\n",
    "    \n",
    "    # Flag if 4 or more negative messages in 30 days\n",
    "    group['flight_risk_flag'] = group['neg_count_30d'] >= 4\n",
    "    \n",
    "    flight_risk_flags.append(group)\n",
    "\n",
    "# Combine results\n",
    "flight_risk_df = pd.concat(flight_risk_flags)\n",
    "\n",
    "# %%\n",
    "# Get unique employees flagged as flight risk\n",
    "flight_risk_employees = flight_risk_df[flight_risk_df['flight_risk_flag']]['from'].unique()\n",
    "\n",
    "print(f\"Number of employees flagged as flight risk: {len(flight_risk_employees)}\")\n",
    "print(\"Flight Risk Employees List:\")\n",
    "print(sorted(flight_risk_employees))"
   ]
  },
  {
   "cell_type": "markdown",
   "id": "00d40672",
   "metadata": {},
   "source": [
    "Save Flight risk to csv "
   ]
  },
  {
   "cell_type": "code",
   "execution_count": null,
   "id": "e3a40451",
   "metadata": {},
   "outputs": [],
   "source": [
    "pd.DataFrame({'from':flight_risk_employees}).to_csv(f\"{path}reports/flight_risk/flight_risk_employees.csv\", index=False)"
   ]
  },
  {
   "cell_type": "markdown",
   "id": "d0106eaa",
   "metadata": {},
   "source": [
    "Visualize negative message patterns for sample flight risk employees"
   ]
  },
  {
   "cell_type": "code",
   "execution_count": null,
   "id": "7c1d4ad1",
   "metadata": {},
   "outputs": [],
   "source": [
    "sample_risk_employees = flight_risk_employees[:5]\n",
    "\n",
    "\n",
    "plt.figure(figsize=(12,6))\n",
    "for emp in sample_risk_employees:\n",
    "    emp_data = negative_msgs[negative_msgs['from'] == emp]\n",
    "    plt.plot(emp_data['date'], emp_data.groupby('date').size().cumsum(), marker='o', label=f'Employee {emp}')\n",
    "\n",
    "plt.title('Cumulative Negative Messages - Sample Flight Risk Employees')\n",
    "plt.xlabel('Date')\n",
    "plt.ylabel('Cumulative Negative Messages')\n",
    "plt.legend()\n",
    "plt.grid(True)\n",
    "plt.show()\n"
   ]
  }
 ],
 "metadata": {
  "kernelspec": {
   "display_name": "Python 3",
   "language": "python",
   "name": "python3"
  },
  "language_info": {
   "codemirror_mode": {
    "name": "ipython",
    "version": 3
   },
   "file_extension": ".py",
   "mimetype": "text/x-python",
   "name": "python",
   "nbconvert_exporter": "python",
   "pygments_lexer": "ipython3",
   "version": "3.12.10"
  }
 },
 "nbformat": 4,
 "nbformat_minor": 5
}
