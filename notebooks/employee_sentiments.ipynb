{
 "cells": [
  {
   "cell_type": "markdown",
   "id": "c1c3fbc0",
   "metadata": {},
   "source": [
    "Task 1: Label each employee message as Positive, Negative, or Neutral using VADER\n",
    "1. Import libraries and Load Dataset"
   ]
  },
  {
   "cell_type": "code",
   "execution_count": 22,
   "id": "1a25fd82",
   "metadata": {},
   "outputs": [
    {
     "data": {
      "text/html": [
       "<div>\n",
       "<style scoped>\n",
       "    .dataframe tbody tr th:only-of-type {\n",
       "        vertical-align: middle;\n",
       "    }\n",
       "\n",
       "    .dataframe tbody tr th {\n",
       "        vertical-align: top;\n",
       "    }\n",
       "\n",
       "    .dataframe thead th {\n",
       "        text-align: right;\n",
       "    }\n",
       "</style>\n",
       "<table border=\"1\" class=\"dataframe\">\n",
       "  <thead>\n",
       "    <tr style=\"text-align: right;\">\n",
       "      <th></th>\n",
       "      <th>Subject</th>\n",
       "      <th>body</th>\n",
       "      <th>date</th>\n",
       "      <th>from</th>\n",
       "    </tr>\n",
       "  </thead>\n",
       "  <tbody>\n",
       "    <tr>\n",
       "      <th>0</th>\n",
       "      <td>EnronOptions Update!</td>\n",
       "      <td>EnronOptions Announcement\\n\\n\\nWe have updated...</td>\n",
       "      <td>5/10/2010</td>\n",
       "      <td>sally.beck@enron.com</td>\n",
       "    </tr>\n",
       "    <tr>\n",
       "      <th>1</th>\n",
       "      <td>(No Subject)</td>\n",
       "      <td>Marc,\\n\\nUnfortunately, today is not going to ...</td>\n",
       "      <td>7/29/2010</td>\n",
       "      <td>eric.bass@enron.com</td>\n",
       "    </tr>\n",
       "    <tr>\n",
       "      <th>2</th>\n",
       "      <td>Phone Screen  Interview - Shannon L. Burnham</td>\n",
       "      <td>When: Wednesday, June 06, 2001 10:00 AM-11:00 ...</td>\n",
       "      <td>7/25/2011</td>\n",
       "      <td>sally.beck@enron.com</td>\n",
       "    </tr>\n",
       "    <tr>\n",
       "      <th>3</th>\n",
       "      <td>RE: My new work email</td>\n",
       "      <td>we were thinking papasitos (we can meet somewh...</td>\n",
       "      <td>3/25/2010</td>\n",
       "      <td>johnny.palmer@enron.com</td>\n",
       "    </tr>\n",
       "    <tr>\n",
       "      <th>4</th>\n",
       "      <td>Bet</td>\n",
       "      <td>Since you never gave me the $20 for the last t...</td>\n",
       "      <td>5/21/2011</td>\n",
       "      <td>lydia.delgado@enron.com</td>\n",
       "    </tr>\n",
       "  </tbody>\n",
       "</table>\n",
       "</div>"
      ],
      "text/plain": [
       "                                        Subject  \\\n",
       "0                          EnronOptions Update!   \n",
       "1                                  (No Subject)   \n",
       "2  Phone Screen  Interview - Shannon L. Burnham   \n",
       "3                         RE: My new work email   \n",
       "4                                           Bet   \n",
       "\n",
       "                                                body       date  \\\n",
       "0  EnronOptions Announcement\\n\\n\\nWe have updated...  5/10/2010   \n",
       "1  Marc,\\n\\nUnfortunately, today is not going to ...  7/29/2010   \n",
       "2  When: Wednesday, June 06, 2001 10:00 AM-11:00 ...  7/25/2011   \n",
       "3  we were thinking papasitos (we can meet somewh...  3/25/2010   \n",
       "4  Since you never gave me the $20 for the last t...  5/21/2011   \n",
       "\n",
       "                      from  \n",
       "0     sally.beck@enron.com  \n",
       "1      eric.bass@enron.com  \n",
       "2     sally.beck@enron.com  \n",
       "3  johnny.palmer@enron.com  \n",
       "4  lydia.delgado@enron.com  "
      ]
     },
     "execution_count": 22,
     "metadata": {},
     "output_type": "execute_result"
    }
   ],
   "source": [
    "import pandas as pd \n",
    "import matplotlib.pyplot as plt\n",
    "import seaborn as sns\n",
    "import warnings\n",
    "from datetime import datetime\n",
    "from vaderSentiment.vaderSentiment import SentimentIntensityAnalyzer\n",
    "plt.style.use('seaborn-v0_8')\n",
    "sns.set_palette(\"husl\")\n",
    "\n",
    "#LOAD test .csv file \n",
    "path=\"C:/Users/ladom/Desktop/TS/ML/AI-project-submission/\"\n",
    "df=pd.read_csv(f\"{path}data/test(in).csv\")\n",
    "\n",
    "df.head()"
   ]
  },
  {
   "cell_type": "markdown",
   "id": "b884413c",
   "metadata": {},
   "source": [
    "2.Initialize VADER and Create  Sentiment Labeling Function"
   ]
  },
  {
   "cell_type": "code",
   "execution_count": 8,
   "id": "106ae493",
   "metadata": {},
   "outputs": [],
   "source": [
    "# create a Vader sentiment analyzer \n",
    "analyzer=SentimentIntensityAnalyzer()\n",
    "\n",
    "# Define a function to get sentiment score\n",
    "def get_sentiment_label(text):\n",
    "    score=analyzer.polarity_scores(text)['compound']\n",
    "    if score >= 0.05:\n",
    "        return 'Positive'\n",
    "    elif score <= -0.05:\n",
    "        return 'Negative'\n",
    "    else:\n",
    "        return 'Neutral'"
   ]
  },
  {
   "cell_type": "markdown",
   "id": "674adbb2",
   "metadata": {},
   "source": [
    "3. Apply labeling and Save labeled data "
   ]
  },
  {
   "cell_type": "code",
   "execution_count": null,
   "id": "1b55e0d9",
   "metadata": {},
   "outputs": [],
   "source": [
    "df['sentiment']=df['body'].apply(get_sentiment_label)\n",
    "# Save labeled dataset for further tasks \n",
    "df.to_csv(f\"{path}data/labeled_test.csv\")"
   ]
  },
  {
   "cell_type": "markdown",
   "id": "b0980345",
   "metadata": {},
   "source": [
    "Task 2: Eploratory Data Anlysis (EDA) \n",
    "1. Analyze labeled dataset to understand the structure "
   ]
  },
  {
   "cell_type": "code",
   "execution_count": 23,
   "id": "e7007510",
   "metadata": {},
   "outputs": [
    {
     "name": "stdout",
     "output_type": "stream",
     "text": [
      "<class 'pandas.core.frame.DataFrame'>\n",
      "RangeIndex: 2191 entries, 0 to 2190\n",
      "Data columns (total 6 columns):\n",
      " #   Column      Non-Null Count  Dtype \n",
      "---  ------      --------------  ----- \n",
      " 0   Unnamed: 0  2191 non-null   int64 \n",
      " 1   Subject     2191 non-null   object\n",
      " 2   body        2191 non-null   object\n",
      " 3   date        2191 non-null   object\n",
      " 4   from        2191 non-null   object\n",
      " 5   sentiment   2191 non-null   object\n",
      "dtypes: int64(1), object(5)\n",
      "memory usage: 102.8+ KB\n",
      "None\n"
     ]
    },
    {
     "data": {
      "text/html": [
       "<div>\n",
       "<style scoped>\n",
       "    .dataframe tbody tr th:only-of-type {\n",
       "        vertical-align: middle;\n",
       "    }\n",
       "\n",
       "    .dataframe tbody tr th {\n",
       "        vertical-align: top;\n",
       "    }\n",
       "\n",
       "    .dataframe thead th {\n",
       "        text-align: right;\n",
       "    }\n",
       "</style>\n",
       "<table border=\"1\" class=\"dataframe\">\n",
       "  <thead>\n",
       "    <tr style=\"text-align: right;\">\n",
       "      <th></th>\n",
       "      <th>Unnamed: 0</th>\n",
       "      <th>Subject</th>\n",
       "      <th>body</th>\n",
       "      <th>date</th>\n",
       "      <th>from</th>\n",
       "      <th>sentiment</th>\n",
       "    </tr>\n",
       "  </thead>\n",
       "  <tbody>\n",
       "    <tr>\n",
       "      <th>0</th>\n",
       "      <td>0</td>\n",
       "      <td>EnronOptions Update!</td>\n",
       "      <td>EnronOptions Announcement\\n\\n\\nWe have updated...</td>\n",
       "      <td>5/10/2010</td>\n",
       "      <td>sally.beck@enron.com</td>\n",
       "      <td>Positive</td>\n",
       "    </tr>\n",
       "    <tr>\n",
       "      <th>1</th>\n",
       "      <td>1</td>\n",
       "      <td>(No Subject)</td>\n",
       "      <td>Marc,\\n\\nUnfortunately, today is not going to ...</td>\n",
       "      <td>7/29/2010</td>\n",
       "      <td>eric.bass@enron.com</td>\n",
       "      <td>Positive</td>\n",
       "    </tr>\n",
       "    <tr>\n",
       "      <th>2</th>\n",
       "      <td>2</td>\n",
       "      <td>Phone Screen  Interview - Shannon L. Burnham</td>\n",
       "      <td>When: Wednesday, June 06, 2001 10:00 AM-11:00 ...</td>\n",
       "      <td>7/25/2011</td>\n",
       "      <td>sally.beck@enron.com</td>\n",
       "      <td>Neutral</td>\n",
       "    </tr>\n",
       "    <tr>\n",
       "      <th>3</th>\n",
       "      <td>3</td>\n",
       "      <td>RE: My new work email</td>\n",
       "      <td>we were thinking papasitos (we can meet somewh...</td>\n",
       "      <td>3/25/2010</td>\n",
       "      <td>johnny.palmer@enron.com</td>\n",
       "      <td>Neutral</td>\n",
       "    </tr>\n",
       "    <tr>\n",
       "      <th>4</th>\n",
       "      <td>4</td>\n",
       "      <td>Bet</td>\n",
       "      <td>Since you never gave me the $20 for the last t...</td>\n",
       "      <td>5/21/2011</td>\n",
       "      <td>lydia.delgado@enron.com</td>\n",
       "      <td>Positive</td>\n",
       "    </tr>\n",
       "  </tbody>\n",
       "</table>\n",
       "</div>"
      ],
      "text/plain": [
       "   Unnamed: 0                                       Subject  \\\n",
       "0           0                          EnronOptions Update!   \n",
       "1           1                                  (No Subject)   \n",
       "2           2  Phone Screen  Interview - Shannon L. Burnham   \n",
       "3           3                         RE: My new work email   \n",
       "4           4                                           Bet   \n",
       "\n",
       "                                                body       date  \\\n",
       "0  EnronOptions Announcement\\n\\n\\nWe have updated...  5/10/2010   \n",
       "1  Marc,\\n\\nUnfortunately, today is not going to ...  7/29/2010   \n",
       "2  When: Wednesday, June 06, 2001 10:00 AM-11:00 ...  7/25/2011   \n",
       "3  we were thinking papasitos (we can meet somewh...  3/25/2010   \n",
       "4  Since you never gave me the $20 for the last t...  5/21/2011   \n",
       "\n",
       "                      from sentiment  \n",
       "0     sally.beck@enron.com  Positive  \n",
       "1      eric.bass@enron.com  Positive  \n",
       "2     sally.beck@enron.com   Neutral  \n",
       "3  johnny.palmer@enron.com   Neutral  \n",
       "4  lydia.delgado@enron.com  Positive  "
      ]
     },
     "execution_count": 23,
     "metadata": {},
     "output_type": "execute_result"
    }
   ],
   "source": [
    "# Load labeled dataset \n",
    "df=pd.read_csv(f\"{path}data/labeled_test.csv\")\n",
    "\n",
    "print(df.info())\n",
    "\n",
    "df.head()\n",
    "\n"
   ]
  },
  {
   "cell_type": "code",
   "execution_count": null,
   "id": "7cd8d1a6",
   "metadata": {},
   "outputs": [],
   "source": [
    "# Check  for missing values \n",
    "df.isnull().sum()\n",
    "\n",
    "# basic counts '\n",
    "print(f\"Total number of messages: {df.shape[0]}\")\n",
    "print(f\"Total number of unique employees: {df['from'].nunique()}\")\n",
    "\n"
   ]
  },
  {
   "cell_type": "markdown",
   "id": "17fddabd",
   "metadata": {},
   "source": [
    "2. Sentiment Distribution "
   ]
  },
  {
   "cell_type": "code",
   "execution_count": null,
   "id": "9eb97a0b",
   "metadata": {},
   "outputs": [],
   "source": [
    "\n",
    "setiment_counts=df['sentiment'].value_counts()\n",
    "print(setiment_counts)\n",
    "\n",
    "plt.figure(figsize=(6,4))\n",
    "sns.countplot(x='sentiment', data=df, palette={\"Positive\":\"green\", \"Negative\":\"red\", \"Neutral\":\"blue\"})\n",
    "plt.title(\"Sentiment Label Distribution\")\n",
    "plt.xlabel(\"Sentiment\")\n",
    "plt.ylabel(\"Number of Messages\")\n",
    "plt.show()\n"
   ]
  },
  {
   "cell_type": "markdown",
   "id": "8b08c8f9",
   "metadata": {},
   "source": [
    "3. Convert Data column to datetime , Create month period column"
   ]
  },
  {
   "cell_type": "code",
   "execution_count": null,
   "id": "fe767b8f",
   "metadata": {},
   "outputs": [],
   "source": [
    "df['date']=pd.to_datetime(df['date'])\n",
    "\n",
    "# check the date range \n",
    "print(f\"Date range: {df['date'].min()} to {df['date'].max()}\")\n",
    "df['month']=df['date'].dt.to_period('M') \n",
    "\n",
    "# Group by month and sentiment \n",
    "monthly_sentiment=df.groupby(['month','sentiment']).size().unstack().fillna(0)\n",
    "monthly_sentiment"
   ]
  },
  {
   "cell_type": "markdown",
   "id": "6f08a67b",
   "metadata": {},
   "source": [
    "4. Plot monthly sentiment trends (stacked bar chart )"
   ]
  },
  {
   "cell_type": "code",
   "execution_count": null,
   "id": "4c400a33",
   "metadata": {},
   "outputs": [],
   "source": [
    "monthly_sentiment.plot(kind='bar', stacked=True, figsize=(12,6), color={\n",
    "    \"Positive\":\"green\",\n",
    "    \"Negative\":\"red\",\n",
    "    \"Neutral\":\"blue\"\n",
    "})\n",
    "plt.title(\"Monthly Sentiment Trends\")\n",
    "plt.xlabel(\"Month\")\n",
    "plt.ylabel(\"Number of Messages\")\n",
    "plt.xticks(rotation=45)\n",
    "plt.legend(title=\"Sentiment\")\n",
    "plt.show()\n"
   ]
  },
  {
   "cell_type": "markdown",
   "id": "1d0624f6",
   "metadata": {},
   "source": [
    "5. Plot Negative message trend Seperately "
   ]
  },
  {
   "cell_type": "code",
   "execution_count": null,
   "id": "f41ab69d",
   "metadata": {},
   "outputs": [],
   "source": [
    "monthly_sentiment['Negative'].plot(kind='line', marker='o', color='red', figsize=(10,5))\n",
    "plt.title('Trend of Negative Messages Over Time')\n",
    "plt.xlabel('Month')\n",
    "plt.ylabel('Number of Negative Messages')\n",
    "plt.grid(True)\n",
    "plt.show()\n"
   ]
  },
  {
   "cell_type": "markdown",
   "id": "bddf00fc",
   "metadata": {},
   "source": [
    "6. Save EDA summaries "
   ]
  },
  {
   "cell_type": "code",
   "execution_count": 24,
   "id": "543e992c",
   "metadata": {},
   "outputs": [],
   "source": [
    "monthly_sentiment.to_csv(f\"{path}reports/monthly_sentiment_summary.csv\")\n",
    "setiment_counts.to_csv(f\"{path}reports/sentiment_distribution.csv\")\n"
   ]
  }
 ],
 "metadata": {
  "kernelspec": {
   "display_name": "Python 3",
   "language": "python",
   "name": "python3"
  },
  "language_info": {
   "codemirror_mode": {
    "name": "ipython",
    "version": 3
   },
   "file_extension": ".py",
   "mimetype": "text/x-python",
   "name": "python",
   "nbconvert_exporter": "python",
   "pygments_lexer": "ipython3",
   "version": "3.12.10"
  }
 },
 "nbformat": 4,
 "nbformat_minor": 5
}
