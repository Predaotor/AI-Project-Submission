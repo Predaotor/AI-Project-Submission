{
 "cells": [
  {
   "cell_type": "markdown",
   "id": "c1c3fbc0",
   "metadata": {},
   "source": [
    "1. Import libraries and Load Dataset"
   ]
  },
  {
   "cell_type": "code",
   "execution_count": null,
   "id": "1a25fd82",
   "metadata": {},
   "outputs": [],
   "source": [
    "import torch \n",
    "import pandas as pd \n",
    "from vaderSentiment.vaderSentiment import SentimentIntensityAnalyzer\n",
    "\n",
    "#LOAD test .csv file \n",
    "path=\"C:/Users/ladom/Desktop/TS/ML/AI-project-submission/data/\"\n",
    "df=pd.read_csv(f\"{path}/test(in).csv\")\n",
    "\n",
    "df.head()"
   ]
  },
  {
   "cell_type": "markdown",
   "id": "b884413c",
   "metadata": {},
   "source": [
    "2.Initialize VADER and Create  Sentiment Labeling Function"
   ]
  },
  {
   "cell_type": "code",
   "execution_count": 8,
   "id": "106ae493",
   "metadata": {},
   "outputs": [],
   "source": [
    "# create a Vader sentiment analyzer \n",
    "analyzer=SentimentIntensityAnalyzer()\n",
    "\n",
    "# Define a function to get sentiment score\n",
    "def get_sentiment_label(text):\n",
    "    score=analyzer.polarity_scores(text)['compound']\n",
    "    if score >= 0.05:\n",
    "        return 'Positive'\n",
    "    elif score <= -0.05:\n",
    "        return 'Negative'\n",
    "    else:\n",
    "        return 'Neutral'"
   ]
  },
  {
   "cell_type": "markdown",
   "id": "674adbb2",
   "metadata": {},
   "source": [
    "3. Apply labeling and Save labeled data "
   ]
  },
  {
   "cell_type": "code",
   "execution_count": 9,
   "id": "1b55e0d9",
   "metadata": {},
   "outputs": [],
   "source": [
    "df['sentiment']=df['body'].apply(get_sentiment_label)\n",
    "# Save labeled dataset for further tasks \n",
    "df.to_csv(f\"{path}/labeled_test.csv\")"
   ]
  }
 ],
 "metadata": {
  "kernelspec": {
   "display_name": "Python 3",
   "language": "python",
   "name": "python3"
  },
  "language_info": {
   "codemirror_mode": {
    "name": "ipython",
    "version": 3
   },
   "file_extension": ".py",
   "mimetype": "text/x-python",
   "name": "python",
   "nbconvert_exporter": "python",
   "pygments_lexer": "ipython3",
   "version": "3.12.10"
  }
 },
 "nbformat": 4,
 "nbformat_minor": 5
}
